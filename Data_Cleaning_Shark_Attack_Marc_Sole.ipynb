{
 "cells": [
  {
   "cell_type": "markdown",
   "metadata": {},
   "source": [
    "<H1>Shark Attack Data Cleaning</H1>\n",
    "In this nootebook we clean all the important variables and mapped to an identifier, next generate a .csv file with the cleaned variables."
   ]
  },
  {
   "cell_type": "code",
   "execution_count": 1,
   "metadata": {
    "collapsed": true
   },
   "outputs": [],
   "source": [
    "import numpy as np\n",
    "import pandas as pd\n",
    "import matplotlib.pyplot as plt\n",
    "from matplotlib import cm\n",
    "import sys\n",
    "import re\n",
    "from random import randint\n",
    "\n",
    "reload(sys)\n",
    "sys.setdefaultencoding('utf-8')"
   ]
  },
  {
   "cell_type": "code",
   "execution_count": 73,
   "metadata": {
    "collapsed": false
   },
   "outputs": [
    {
     "data": {
      "text/plain": [
       "Case Number               object\n",
       "Date                      object\n",
       "Year                       int64\n",
       "Type                      object\n",
       "Country                   object\n",
       "Area                      object\n",
       "Location                  object\n",
       "Activity                  object\n",
       "Name                      object\n",
       "Sex                       object\n",
       "Age                       object\n",
       "Injury                    object\n",
       "Fatal (Y/N)               object\n",
       "Time                      object\n",
       "Species                   object\n",
       "Investigator or Source    object\n",
       "dtype: object"
      ]
     },
     "execution_count": 73,
     "metadata": {},
     "output_type": "execute_result"
    }
   ],
   "source": [
    "data = pd.read_csv(\"./attacks.csv\", encoding = \"ISO-8859-1\",header=0)\n",
    "#Clean corrupted data\n",
    "data.drop(data.index[[60,272,273,1566,2063,2126,2376,2457,4303,4530,4805]])\n",
    "data.dtypes"
   ]
  },
  {
   "cell_type": "markdown",
   "metadata": {},
   "source": [
    "<h1>Date Cleaning</h1>\n",
    "At the moment the dates with a different length of 10 chars are invalidated"
   ]
  },
  {
   "cell_type": "code",
   "execution_count": 3,
   "metadata": {
    "collapsed": true
   },
   "outputs": [],
   "source": [
    "def extract_date(date):\n",
    "    str_date= str(date)\n",
    "    str_date = str.replace(str_date,'.','/')\n",
    "    str_date = str.replace(str_date,'-','/')\n",
    "    str_date = str_date[:10]\n",
    "    \n",
    "    if len(str_date)==10:        \n",
    "        return str_date\n",
    "    else:\n",
    "        return \"0000/00/01\""
   ]
  },
  {
   "cell_type": "code",
   "execution_count": 4,
   "metadata": {
    "collapsed": false
   },
   "outputs": [],
   "source": [
    "data['Clean Date'] = data['Case Number'].apply(extract_date)"
   ]
  },
  {
   "cell_type": "code",
   "execution_count": 5,
   "metadata": {
    "collapsed": false
   },
   "outputs": [
    {
     "data": {
      "text/plain": [
       "0000/00/01    124\n",
       "1950/00/00     13\n",
       "1957/00/00     11\n",
       "1942/00/00     11\n",
       "1960/00/00     10\n",
       "1958/00/00      9\n",
       "1956/00/00      8\n",
       "1898/00/00      8\n",
       "1970/00/00      8\n",
       "1941/00/00      7\n",
       "1965/00/00      7\n",
       "1954/00/00      7\n",
       "1949/00/00      7\n",
       "1959/00/00      7\n",
       "1943/00/00      6\n",
       "1955/00/00      6\n",
       "1940/00/00      6\n",
       "1995/07/28      5\n",
       "2003/10/05      5\n",
       "1952/00/00      5\n",
       "1960/10/00      5\n",
       "1929/00/00      5\n",
       "1939/00/00      5\n",
       "1938/00/00      5\n",
       "1890/00/00      5\n",
       "1956/08/00      5\n",
       "2001/04/12      5\n",
       "1970/01/23      4\n",
       "1980/00/00      4\n",
       "1926/00/00      4\n",
       "             ... \n",
       "2002/08/05      1\n",
       "1961/04/17      1\n",
       "1961/04/14      1\n",
       "1966/07/31      1\n",
       "1909/07/15      1\n",
       "1912/05/04      1\n",
       "2004/06/02      1\n",
       "2000/01/05      1\n",
       "1971/10/23      1\n",
       "1969/07/22      1\n",
       "2010/12/11      1\n",
       "2007/05/09      1\n",
       "1932/02/16      1\n",
       "1953/03/19      1\n",
       "1977/03/17      1\n",
       "1984/09/15      1\n",
       "1889/07/08      1\n",
       "1852/00/00      1\n",
       "1886/04/26      1\n",
       "1967/03/12      1\n",
       "1968/02/04      1\n",
       "1984/07/00      1\n",
       "1984/07/01      1\n",
       "1951/09/29      1\n",
       "1986/09/22      1\n",
       "1961/05/17      1\n",
       "1961/05/15      1\n",
       "2006/04/03      1\n",
       "1980/08/04      1\n",
       "1994/05/24      1\n",
       "Name: Clean Date, dtype: int64"
      ]
     },
     "execution_count": 5,
     "metadata": {},
     "output_type": "execute_result"
    }
   ],
   "source": [
    "data['Clean Date'].value_counts()"
   ]
  },
  {
   "cell_type": "code",
   "execution_count": 6,
   "metadata": {
    "collapsed": false
   },
   "outputs": [],
   "source": [
    "month_count= 0\n",
    "month_acumulated = 0\n",
    "\n",
    "#Calculate the median month for the empty date months\n",
    "for date in data['Clean Date']:\n",
    "    if int(str(date).split(\"/\")[1])>0:\n",
    "        month_count +=1\n",
    "        month_acumulated += int(date.split(\"/\")[1])\n",
    "\n",
    "med_month = month_acumulated/month_count\n",
    "med_month_str = str(med_month)\n",
    "\n",
    "# Add day 15 in the empty days and add month median to the empty months\n",
    "def fix_bad_dates(date):\n",
    "    date_splited = str(date).split(\"/\")\n",
    "    \n",
    "    if len(date_splited)==3:\n",
    "    \n",
    "        if not int(date_splited[2])>0:\n",
    "            date_splited[2]=\"15\"\n",
    "\n",
    "        if not int(date_splited[1])>0:\n",
    "            date_splited[1]=\"0\"+med_month_str\n",
    "\n",
    "        else:\n",
    "            return date_splited[0]+\"/\"+date_splited[1]+\"/\"+date_splited[2]\n",
    "    else:\n",
    "        return np.nan\n",
    "    "
   ]
  },
  {
   "cell_type": "code",
   "execution_count": 7,
   "metadata": {
    "collapsed": false
   },
   "outputs": [],
   "source": [
    "data['Clean Date'] = data['Clean Date'].apply(fix_bad_dates)"
   ]
  },
  {
   "cell_type": "code",
   "execution_count": 8,
   "metadata": {
    "collapsed": false
   },
   "outputs": [
    {
     "data": {
      "text/plain": [
       "1956/08/15    8\n",
       "2001/04/12    5\n",
       "2003/10/05    5\n",
       "1995/07/28    5\n",
       "1960/10/15    5\n",
       "1970/01/23    4\n",
       "1906/10/10    4\n",
       "1994/07/09    4\n",
       "2010/01/09    4\n",
       "2008/12/27    4\n",
       "1993/08/15    4\n",
       "1952/07/27    4\n",
       "2003/07/15    4\n",
       "2012/06/14    4\n",
       "2014/12/28    4\n",
       "2015/09/20    4\n",
       "2013/06/25    3\n",
       "2005/11/25    3\n",
       "2007/09/30    3\n",
       "2014/03/18    3\n",
       "1965/05/15    3\n",
       "2012/09/02    3\n",
       "2003/06/24    3\n",
       "1997/05/31    3\n",
       "1934/04/01    3\n",
       "1974/01/07    3\n",
       "2011/06/06    3\n",
       "2002/09/27    3\n",
       "2014/06/09    3\n",
       "2010/02/06    3\n",
       "             ..\n",
       "2010/12/17    1\n",
       "1956/08/01    1\n",
       "2007/05/09    1\n",
       "2010/12/11    1\n",
       "1969/07/22    1\n",
       "1971/10/23    1\n",
       "2000/01/05    1\n",
       "2004/06/02    1\n",
       "1909/07/15    1\n",
       "1980/03/15    1\n",
       "1961/04/15    1\n",
       "1961/04/14    1\n",
       "1961/04/17    1\n",
       "1894/12/11    1\n",
       "1951/09/29    1\n",
       "1944/02/18    1\n",
       "1932/02/16    1\n",
       "1953/03/19    1\n",
       "1977/03/17    1\n",
       "1984/09/15    1\n",
       "2000/10/09    1\n",
       "1889/07/08    1\n",
       "1886/04/26    1\n",
       "1898/12/28    1\n",
       "1967/03/12    1\n",
       "1968/02/04    1\n",
       "1852/05/24    1\n",
       "1984/07/01    1\n",
       "1936/12/19    1\n",
       "1959/04/05    1\n",
       "Name: Clean Date, dtype: int64"
      ]
     },
     "execution_count": 8,
     "metadata": {},
     "output_type": "execute_result"
    }
   ],
   "source": [
    "data['Clean Date'].value_counts()"
   ]
  },
  {
   "cell_type": "markdown",
   "metadata": {},
   "source": [
    "<h1>Time Cleaning</h1>"
   ]
  },
  {
   "cell_type": "code",
   "execution_count": 9,
   "metadata": {
    "collapsed": false
   },
   "outputs": [
    {
     "data": {
      "text/plain": [
       "array([u'13h00', u'11h00', u'10h43', nan, u'15h15', u'14h30', u'15h40',\n",
       "       u'Late afternoon', u'15h00', u'14h00', u'17h00', u'16h00', u'11h30',\n",
       "       u'12h00', u'19h05', u'After noon', u'1300', u'10h00',\n",
       "       u'14h30 / 15h30', u'22h00', u'16h20', u'14h34', u'15h25', u'14h55',\n",
       "       u'06h00', u'17h30', u'08h30', u'Morning', u'Afternoon', u'15h45',\n",
       "       u'18h00', u'17h46', u'Morning ', u'13h20', u'15h49', u'07h00',\n",
       "       u'08h00', u'10h45', u'19h00', u'13h30', u'Midnight', u'12h30',\n",
       "       u'09h30 / 10h00', u'10h30', u'18h15', u'04h00', u'14h50', u'13h50',\n",
       "       u'19h20', u'10h25', u'16h50', u'10h45-11h15', u'16h45', u'15h52',\n",
       "       u'07h30', u'06h15', u'14h40', u'19h45', u'17h10', u'15h30',\n",
       "       u'10h10', u'08h45', u'Evening', u'09h00', u'12h10', u'18h05',\n",
       "       u'19h30', u'11h41', u'12h25', u'09h30', u'17h51', u'16h12',\n",
       "       u'12h45', u'10h50', u'13h45', u'14h15', u'16h30', u'09h45',\n",
       "       u'11h45', u'10h20', u'18h30', u'06h45', u'05h00', u'03h30',\n",
       "       u'Night', u'Sometime between 06h00 & 08hoo', u'06h30', u'11h15',\n",
       "       u'17h20', u'18h45', u'20h00', u'16h40', u'16h18', u'11h10',\n",
       "       u'Early afternoon', u'17h50', u'07h00 - 08h00', u'18h15-18h30',\n",
       "       u'17h01', u'10h15', u'09h57', u'08h20', u'17h58', u'20h30',\n",
       "       u'15h19', u'10h55', u'15h55', u'23h00', u'12h40', u'13h55',\n",
       "       u'16h05', u'14h10', u'15h20', u'12h50', u'14h45', u'13h40',\n",
       "       u'13h24', u'09h00 - 09h30', u'0830', u'09h40', u'11h40', u'08h10',\n",
       "       u'15h56', u'14h20', u'Just before noon', u'07h56', u'1600',\n",
       "       u'17h17', u'16h35', u'09h05', u'07h15', u'07h20', u'19h28',\n",
       "       u'12h38', u'05h50', u'15h50', u'11h05', u'Early morning', u'Dawn',\n",
       "       u'05h45', u'13h25', u'09h50', u'12h20', u'13h26', u'09h11',\n",
       "       u'12h15', u'13h15', u'Midday', u'17h45', u'18h20', u'10h40',\n",
       "       u'15h35', u'AM', u'13h51', u'08h50', u'A.M.', u'08h05', u'19h15',\n",
       "       u'10h35', u'15h44', u'Dusk', u'21h00', u'Lunchtime', u'15j45',\n",
       "       u'09h35', u'10h27', u'10h16', u'0500', u'07h45', u'Before 07h00',\n",
       "       u'09h20', u'10h00 -- 11h00', u'12h05', u'14h21', u'18h50', u'15h53',\n",
       "       u'\"Just before 11h00\"', u'11h115', u'08h15', u'13h42', u'20h15',\n",
       "       u'12h39', u'17h35', u'07h05', u'Sunset', u'  ', u'13h05', u'11h50',\n",
       "       u'\"Evening\"', u'Just before sundown', u'17h55', u'22h30', u'17h15',\n",
       "       u'16h10', u'11h30 ', u'06h10', u'16h15', u'Between 05h00 and 08h00',\n",
       "       u'07h08', u'17h00 or 17h40', u'03h00', u'>08h00', u'--', u'12h02',\n",
       "       u'12h55', u'16h14', u'17h11', u'00h30', u'14h37', u'10h07',\n",
       "       u'13h53', u'11h55', u'13h23', u'Just after 12h00', u'02h30',\n",
       "       u'08h40', u'11h56', u'14h35', u' ', u'Early Morning', u'07h50',\n",
       "       u'Shortly after midnight', u'14h25', u'13h345', u'\\xa0 ', u'06h47',\n",
       "       u'09h00 -10h00', u'20h45 (Sunset)', u'02h00', u'Late morning',\n",
       "       u'P.M.', u'18h40', u'13h14', u'13h06', u'11h20',\n",
       "       u'Shortly before 13h00', u'12h34', u'11h53', u'8:04 pm', u'12h46',\n",
       "       u'12h48', u'17h42', u'12h35',\n",
       "       u'Possibly same incident as 2000.08.21', u'After Dusk', u'11h57',\n",
       "       u'Noon', u'17h40', u'11h25', u'18h25', u'10h28', u'09h15', u'14h16',\n",
       "       u'09h55', u'2 hours after Opperman', u'15h05', u'09h30 ',\n",
       "       u'Mid afternoon', u'Mid morning', u'11h48', u'11h00 / 11h30',\n",
       "       u'07h19', u'13h37', u'11h06', u'\"Night\"', u'18h30?', u'11h58',\n",
       "       u'11h51', u'18h12', u'07h10', u'07h40', u'12h33',\n",
       "       u'30 minutes after 1992.07.08.a', u'>06h45', u'15h06', u'12h54',\n",
       "       u'Between 06h00 & 07h20', u'16h55', u'05h40', u'<07h30', u'21h30',\n",
       "       u'17h00 Sunset', u'Nightfall', u'X', u'08h57', u'18h30 (Sunset)',\n",
       "       u'06j00', u'08h35', u'10h22', u'02h45', u'Prior to 10h37',\n",
       "       u'Daybreak', u'18h10', u'>12h00', u'Mid-morning', u'08h55',\n",
       "       u'16h30 or 18h00', u'Just before dawn', u' 14h00', u'Daytime',\n",
       "       u'06h50', u'01h00', u'Dark', u'10h00 / 11h00', u'\"After lunch\"',\n",
       "       u'23h30', u'07h32', u'15h00 or 15h45', u'>17h00', u'19h00 / 20h00',\n",
       "       u'12h45 / 13h45', u'14h00 - 15h00', u'night', u'03h45 - 04h00',\n",
       "       u'13h10', u'09h30 / 15h30', u'08h00 / 09h30', u'19h35',\n",
       "       u'12h00 to 14h00', u'13h35', u'Late night', u'01h32',\n",
       "       u'10h30 or 13h30', u'16h23', u'15h00j', u'Midday.', u'\"After dark\"',\n",
       "       u'10h00 or 14h00', u'19h10', u'16h25', u'2 hrs before sunset',\n",
       "       u'18h15 to 21h30', u'1500', u'\"shortly before dusk\"', u'>17h30',\n",
       "       u'>14h30', u'Between 11h00 & 12h00', u'After 04h00',\n",
       "       u'11h01 -time of ship sinking', u'Ship aban-doned at 03h10',\n",
       "       u'19h55', u'After dusk',\n",
       "       u'FATAL  (Wire netting installed at local beaches after this incident.)',\n",
       "       u'01h30', u'After midnight', u'Late afternon', u'05h30', u'08h58',\n",
       "       u'\"Early evening\"', u'Late Afternoon', u'   ', u'Before daybreak',\n",
       "       u'dusk', u'Before 10h30', u'06h00 -- 07h00', u'01h50',\n",
       "       u'17h00-18h00', u'19h00-20h00'], dtype=object)"
      ]
     },
     "execution_count": 9,
     "metadata": {},
     "output_type": "execute_result"
    }
   ],
   "source": [
    "data['Time'].unique()"
   ]
  },
  {
   "cell_type": "code",
   "execution_count": 10,
   "metadata": {
    "collapsed": true
   },
   "outputs": [],
   "source": [
    "#Check if is a clean time\n",
    "def is_clean_time(str_time):\n",
    "    return len(str_time)==5 and str_time.split(\":\")[0] is not None"
   ]
  },
  {
   "cell_type": "code",
   "execution_count": 11,
   "metadata": {
    "collapsed": true
   },
   "outputs": [],
   "source": [
    "#Get the first time in the cases of a range of time\n",
    "def get_first_time(str_time):\n",
    "    regexph = re.compile(r'([0-2][0-9]h[0-5][0-9])')\n",
    "    regexp = re.compile(r'([0-2][0-9]\\:[0-5][0-9])')\n",
    "    if regexph.search(str_time) is not None:\n",
    "        str_time = regexph.findall(str_time)[0]\n",
    "    elif regexp.search(str_time) is not None:\n",
    "        str_time = regexp.findall(str_time)[0]\n",
    "    \n",
    "    return str_time"
   ]
  },
  {
   "cell_type": "code",
   "execution_count": 12,
   "metadata": {
    "collapsed": false
   },
   "outputs": [],
   "source": [
    "#Mapping the different text values to a time\n",
    "def extract_time(time):\n",
    "    str_time= str(time)\n",
    "    str_time = get_first_time(str_time)\n",
    "    \n",
    "    if 'late afternoon' in str_time.lower():\n",
    "        str_time = '20:00'\n",
    "    if 'late afternon' in str_time.lower():\n",
    "        str_time = '20:00'\n",
    "    elif 'noon' in str_time.lower():\n",
    "        str_time = '18:00'\n",
    "    elif 'morning' in str_time.lower():\n",
    "        str_time = '10:00'\n",
    "    elif 'midnight' in str_time.lower():\n",
    "        str_time = '00:00'\n",
    "    elif 'night' in str_time.lower():\n",
    "        str_time = '22:00'\n",
    "    elif 'evening' in str_time.lower():\n",
    "        str_time = '20:00'    \n",
    "    elif 'after dark' in str_time.lower():\n",
    "        str_time = '20:00'\n",
    "    elif 'daybreak' in str_time.lower():\n",
    "        str_time = '12:00'\n",
    "    elif 'lunch' in str_time.lower():\n",
    "        str_time = '09:00'\n",
    "    \n",
    "    str_time = str.replace(str_time,'h',':')\n",
    "    str_time = str.replace(str_time,'j',':')\n",
    "    \n",
    "    if is_clean_time(str_time):\n",
    "        return str_time+\":00\"\n",
    "    else:\n",
    "        return None #For Predict\n",
    "\n",
    "    \n"
   ]
  },
  {
   "cell_type": "code",
   "execution_count": 13,
   "metadata": {
    "collapsed": false
   },
   "outputs": [],
   "source": [
    "data['Clean Time'] = data['Time'].apply(extract_time)"
   ]
  },
  {
   "cell_type": "code",
   "execution_count": 14,
   "metadata": {
    "collapsed": false
   },
   "outputs": [],
   "source": [
    "median=0\n",
    "time_counter = 0\n",
    "max_hour = 0\n",
    "min_hour = 24\n",
    "max_median = 0\n",
    "min_median = 0\n",
    "hours=0\n",
    "hour=0\n",
    "for time in data[\"Clean Time\"]:\n",
    "    if time is not None:\n",
    "        time_counter +=1\n",
    "        hour = int(time.split(\":\")[0])\n",
    "        hours += hour\n",
    "        if hour > max_hour:\n",
    "            max_hour = int(hour)\n",
    "        if hour < min_hour:\n",
    "            min_hours = int(hour)\n",
    "median = hours/time_counter\n",
    "\n",
    "\n",
    "#Add median to empty values\n",
    "def add_median_to_nan_values(time):\n",
    "    if time == None:\n",
    "        return str(median)+\":00:00\"\n",
    "    else:\n",
    "        return time\n"
   ]
  },
  {
   "cell_type": "code",
   "execution_count": 15,
   "metadata": {
    "collapsed": false
   },
   "outputs": [],
   "source": [
    "data['Clean Time'] = data['Clean Time'].apply(add_median_to_nan_values)"
   ]
  },
  {
   "cell_type": "code",
   "execution_count": 16,
   "metadata": {
    "collapsed": false
   },
   "outputs": [],
   "source": [
    "def check_time(time):\n",
    "    splited_time = time.split(\":\")\n",
    "    if len(splited_time)==3:\n",
    "        if int(splited_time[0])<24 and int(splited_time[1])<60 and int(splited_time[2])<60:\n",
    "            return time\n",
    "    \n",
    "    return np.nan\n",
    "    "
   ]
  },
  {
   "cell_type": "code",
   "execution_count": 17,
   "metadata": {
    "collapsed": true
   },
   "outputs": [],
   "source": [
    "data['Clean Time'] = data['Clean Time'].apply(check_time)"
   ]
  },
  {
   "cell_type": "code",
   "execution_count": 18,
   "metadata": {
    "collapsed": false
   },
   "outputs": [
    {
     "data": {
      "text/plain": [
       "13:00:00    3374\n",
       "18:00:00     249\n",
       "10:00:00     179\n",
       "11:00:00     126\n",
       "12:00:00     112\n",
       "15:00:00     102\n",
       "14:00:00      95\n",
       "16:00:00      94\n",
       "20:00:00      84\n",
       "16:30:00      73\n",
       "14:30:00      72\n",
       "17:30:00      70\n",
       "17:00:00      68\n",
       "22:00:00      65\n",
       "15:30:00      62\n",
       "11:30:00      61\n",
       "13:30:00      56\n",
       "09:00:00      51\n",
       "10:30:00      47\n",
       "09:30:00      33\n",
       "12:30:00      33\n",
       "07:30:00      31\n",
       "08:00:00      30\n",
       "18:30:00      29\n",
       "08:30:00      25\n",
       "19:00:00      25\n",
       "07:00:00      22\n",
       "17:15:00      18\n",
       "14:45:00      17\n",
       "15:45:00      17\n",
       "            ... \n",
       "12:54:00       1\n",
       "08:55:00       1\n",
       "06:10:00       1\n",
       "00:30:00       1\n",
       "11:06:00       1\n",
       "19:35:00       1\n",
       "18:25:00       1\n",
       "22:30:00       1\n",
       "08:57:00       1\n",
       "13:10:00       1\n",
       "19:55:00       1\n",
       "13:14:00       1\n",
       "12:02:00       1\n",
       "02:45:00       1\n",
       "15:19:00       1\n",
       "23:30:00       1\n",
       "17:17:00       1\n",
       "16:12:00       1\n",
       "11:51:00       1\n",
       "12:46:00       1\n",
       "17:11:00       1\n",
       "09:11:00       1\n",
       "13:42:00       1\n",
       "01:50:00       1\n",
       "09:05:00       1\n",
       "15:52:00       1\n",
       "09:20:00       1\n",
       "03:10:00       1\n",
       "14:34:00       1\n",
       "16:18:00       1\n",
       "Name: Clean Time, dtype: int64"
      ]
     },
     "execution_count": 18,
     "metadata": {},
     "output_type": "execute_result"
    }
   ],
   "source": [
    "data['Clean Time'].value_counts()"
   ]
  },
  {
   "cell_type": "code",
   "execution_count": 19,
   "metadata": {
    "collapsed": false,
    "scrolled": true
   },
   "outputs": [
    {
     "data": {
      "text/plain": [
       "array(['13:00:00', '11:00:00', '10:43:00', '15:15:00', '14:30:00',\n",
       "       '15:40:00', '20:00:00', '15:00:00', '14:00:00', '17:00:00',\n",
       "       '16:00:00', '11:30:00', '12:00:00', '19:05:00', '18:00:00',\n",
       "       '10:00:00', '22:00:00', '16:20:00', '14:34:00', '15:25:00',\n",
       "       '14:55:00', '06:00:00', '17:30:00', '08:30:00', '15:45:00',\n",
       "       '17:46:00', '13:20:00', '15:49:00', '07:00:00', '08:00:00',\n",
       "       '10:45:00', '19:00:00', '13:30:00', '00:00:00', '12:30:00',\n",
       "       '09:30:00', '10:30:00', '18:15:00', '04:00:00', '14:50:00',\n",
       "       '13:50:00', '19:20:00', '10:25:00', '16:50:00', '16:45:00',\n",
       "       '15:52:00', '07:30:00', '06:15:00', '14:40:00', '19:45:00',\n",
       "       '17:10:00', '15:30:00', '10:10:00', '08:45:00', '09:00:00',\n",
       "       '12:10:00', '18:05:00', '19:30:00', '11:41:00', '12:25:00',\n",
       "       '17:51:00', '16:12:00', '12:45:00', '10:50:00', '13:45:00',\n",
       "       '14:15:00', '16:30:00', '09:45:00', '11:45:00', '10:20:00',\n",
       "       '18:30:00', '06:45:00', '05:00:00', '03:30:00', '06:30:00',\n",
       "       '11:15:00', '17:20:00', '18:45:00', '16:40:00', '16:18:00',\n",
       "       '11:10:00', '17:50:00', '17:01:00', '10:15:00', '09:57:00',\n",
       "       '08:20:00', '17:58:00', '20:30:00', '15:19:00', '10:55:00',\n",
       "       '15:55:00', '23:00:00', '12:40:00', '13:55:00', '16:05:00',\n",
       "       '14:10:00', '15:20:00', '12:50:00', '14:45:00', '13:40:00',\n",
       "       '13:24:00', '09:40:00', '11:40:00', '08:10:00', '15:56:00',\n",
       "       '14:20:00', '07:56:00', '17:17:00', '16:35:00', '09:05:00',\n",
       "       '07:15:00', '07:20:00', '19:28:00', '12:38:00', '05:50:00',\n",
       "       '15:50:00', '11:05:00', '05:45:00', '13:25:00', '09:50:00',\n",
       "       '12:20:00', '13:26:00', '09:11:00', '12:15:00', '13:15:00',\n",
       "       '17:45:00', '18:20:00', '10:40:00', '15:35:00', '13:51:00',\n",
       "       '08:50:00', '08:05:00', '19:15:00', '10:35:00', '15:44:00',\n",
       "       '21:00:00', '09:35:00', '10:27:00', '10:16:00', '07:45:00',\n",
       "       '09:20:00', '12:05:00', '14:21:00', '18:50:00', '15:53:00',\n",
       "       '11:11:00', '08:15:00', '13:42:00', '20:15:00', '12:39:00',\n",
       "       '17:35:00', '07:05:00', '13:05:00', '11:50:00', '17:55:00',\n",
       "       '22:30:00', '17:15:00', '16:10:00', '06:10:00', '16:15:00',\n",
       "       '07:08:00', '03:00:00', '12:02:00', '12:55:00', '16:14:00',\n",
       "       '17:11:00', '00:30:00', '14:37:00', '10:07:00', '13:53:00',\n",
       "       '11:55:00', '13:23:00', '02:30:00', '08:40:00', '11:56:00',\n",
       "       '14:35:00', '07:50:00', '14:25:00', '13:34:00', '06:47:00',\n",
       "       '20:45:00', '02:00:00', '18:40:00', '13:14:00', '13:06:00',\n",
       "       '11:20:00', '12:34:00', '11:53:00', '12:46:00', '12:48:00',\n",
       "       '17:42:00', '12:35:00', '11:57:00', '17:40:00', '11:25:00',\n",
       "       '18:25:00', '10:28:00', '09:15:00', '14:16:00', '09:55:00',\n",
       "       '15:05:00', '11:48:00', '07:19:00', '13:37:00', '11:06:00',\n",
       "       '11:58:00', '11:51:00', '18:12:00', '07:10:00', '07:40:00',\n",
       "       '12:33:00', '15:06:00', '12:54:00', '16:55:00', '05:40:00',\n",
       "       '21:30:00', '08:57:00', '08:35:00', '10:22:00', '02:45:00',\n",
       "       '10:37:00', '18:10:00', '08:55:00', '06:50:00', '01:00:00',\n",
       "       '23:30:00', '07:32:00', '03:45:00', '13:10:00', '19:35:00',\n",
       "       '13:35:00', '01:32:00', '16:23:00', '19:10:00', '16:25:00',\n",
       "       '11:01:00', '03:10:00', '19:55:00', '01:30:00', '05:30:00',\n",
       "       '08:58:00', '01:50:00'], dtype=object)"
      ]
     },
     "execution_count": 19,
     "metadata": {},
     "output_type": "execute_result"
    }
   ],
   "source": [
    "data['Clean Time'].unique()"
   ]
  },
  {
   "cell_type": "code",
   "execution_count": 20,
   "metadata": {
    "collapsed": false
   },
   "outputs": [
    {
     "data": {
      "text/plain": [
       "Case Number               object\n",
       "Date                      object\n",
       "Year                       int64\n",
       "Type                      object\n",
       "Country                   object\n",
       "Area                      object\n",
       "Location                  object\n",
       "Activity                  object\n",
       "Name                      object\n",
       "Sex                       object\n",
       "Age                       object\n",
       "Injury                    object\n",
       "Fatal (Y/N)               object\n",
       "Time                      object\n",
       "Species                   object\n",
       "Investigator or Source    object\n",
       "Clean Date                object\n",
       "Clean Time                object\n",
       "dtype: object"
      ]
     },
     "execution_count": 20,
     "metadata": {},
     "output_type": "execute_result"
    }
   ],
   "source": [
    "data.dtypes"
   ]
  },
  {
   "cell_type": "markdown",
   "metadata": {},
   "source": [
    "<h1>Hours</h1>"
   ]
  },
  {
   "cell_type": "code",
   "execution_count": 21,
   "metadata": {
    "collapsed": true
   },
   "outputs": [],
   "source": [
    "def get_hour(time):\n",
    "    return int(time.split(\":\")[0])"
   ]
  },
  {
   "cell_type": "code",
   "execution_count": 22,
   "metadata": {
    "collapsed": true
   },
   "outputs": [],
   "source": [
    "data['Hour'] = data['Clean Time'].apply(get_hour)"
   ]
  },
  {
   "cell_type": "markdown",
   "metadata": {},
   "source": [
    "<h1>Sex</h1>"
   ]
  },
  {
   "cell_type": "code",
   "execution_count": 23,
   "metadata": {
    "collapsed": false
   },
   "outputs": [
    {
     "data": {
      "text/plain": [
       "M      4835\n",
       "F       585\n",
       "M         2\n",
       "N         1\n",
       ".         1\n",
       "lli       1\n",
       "Name: Sex , dtype: int64"
      ]
     },
     "execution_count": 23,
     "metadata": {},
     "output_type": "execute_result"
    }
   ],
   "source": [
    "data[\"Sex \"].value_counts()"
   ]
  },
  {
   "cell_type": "code",
   "execution_count": 24,
   "metadata": {
    "collapsed": true
   },
   "outputs": [],
   "source": [
    "def fix_sex(sex):\n",
    "    sex = str(sex)\n",
    "    if \"M\" in sex:\n",
    "        return 0\n",
    "    if \"F\" in sex:\n",
    "        return 1\n",
    "    return 0 #default 0 because is the most frequent\n",
    "        \n",
    "     "
   ]
  },
  {
   "cell_type": "code",
   "execution_count": 25,
   "metadata": {
    "collapsed": false
   },
   "outputs": [],
   "source": [
    "data[\"Sex Clean\"] = data[\"Sex \"].apply(fix_sex)"
   ]
  },
  {
   "cell_type": "code",
   "execution_count": 26,
   "metadata": {
    "collapsed": false
   },
   "outputs": [
    {
     "data": {
      "text/plain": [
       "0    5407\n",
       "1     585\n",
       "Name: Sex Clean, dtype: int64"
      ]
     },
     "execution_count": 26,
     "metadata": {},
     "output_type": "execute_result"
    }
   ],
   "source": [
    "data[\"Sex Clean\"].value_counts()"
   ]
  },
  {
   "cell_type": "markdown",
   "metadata": {},
   "source": [
    "<h1>Join Date</h1>"
   ]
  },
  {
   "cell_type": "code",
   "execution_count": 27,
   "metadata": {
    "collapsed": true
   },
   "outputs": [],
   "source": [
    "def string_to_datetime(complet_date):\n",
    "    #return pd.to_datetime(complet_date, format='%H/%m/%s', errors='ignore')\n",
    "    #return np.datetime64(complet_date)\n",
    "    \n",
    "    return pd.to_datetime(complet_date, format='%dd/%BB/%YYYY %H:%m:%s', errors='coerce')"
   ]
  },
  {
   "cell_type": "code",
   "execution_count": 28,
   "metadata": {
    "collapsed": false,
    "scrolled": true
   },
   "outputs": [
    {
     "data": {
      "text/plain": [
       "Case Number               object\n",
       "Date                      object\n",
       "Year                       int64\n",
       "Type                      object\n",
       "Country                   object\n",
       "Area                      object\n",
       "Location                  object\n",
       "Activity                  object\n",
       "Name                      object\n",
       "Sex                       object\n",
       "Age                       object\n",
       "Injury                    object\n",
       "Fatal (Y/N)               object\n",
       "Time                      object\n",
       "Species                   object\n",
       "Investigator or Source    object\n",
       "Clean Date                object\n",
       "Clean Time                object\n",
       "Hour                       int64\n",
       "Sex Clean                  int64\n",
       "DateTime                  object\n",
       "dtype: object"
      ]
     },
     "execution_count": 28,
     "metadata": {},
     "output_type": "execute_result"
    }
   ],
   "source": [
    "\n",
    "complete_date = data[\"Clean Date\"].map(str)+\" \"+ data[\"Clean Time\"]\n",
    "data[\"DateTime\"] = complete_date.apply(string_to_datetime)\n",
    "data.dtypes\n",
    "\n"
   ]
  },
  {
   "cell_type": "code",
   "execution_count": 29,
   "metadata": {
    "collapsed": false
   },
   "outputs": [
    {
     "data": {
      "text/plain": [
       "None 13:00:00          491\n",
       "None 18:00:00           10\n",
       "1956/08/15 13:00:00      7\n",
       "None 10:00:00            5\n",
       "1906/10/10 13:00:00      4\n",
       "1960/10/15 13:00:00      4\n",
       "1970/01/23 13:00:00      4\n",
       "1952/07/27 13:00:00      4\n",
       "1965/05/15 13:00:00      3\n",
       "1999/12/31 13:00:00      3\n",
       "2012/06/14 18:00:00      3\n",
       "1916/07/12 13:00:00      3\n",
       "2000/07/15 13:00:00      3\n",
       "1974/08/16 13:00:00      3\n",
       "1964/07/15 13:00:00      3\n",
       "1996/02/10 13:00:00      3\n",
       "1960/11/15 13:00:00      3\n",
       "1886/08/15 13:00:00      3\n",
       "1962/06/11 22:00:00      3\n",
       "None 12:00:00            3\n",
       "1977/03/13 13:00:00      3\n",
       "2003/07/15 13:00:00      3\n",
       "1960/04/15 13:00:00      3\n",
       "1999/11/15 13:00:00      3\n",
       "1885/07/26 13:00:00      3\n",
       "None 22:00:00            2\n",
       "1993/08/15 13:00:00      2\n",
       "1959/04/09 13:00:00      2\n",
       "1953/04/15 13:00:00      2\n",
       "1887/02/08 13:00:00      2\n",
       "                      ... \n",
       "2004/05/28 11:00:00      1\n",
       "2010/02/13 13:30:00      1\n",
       "2006/07/28 16:30:00      1\n",
       "2011/06/19 13:00:00      1\n",
       "1981/12/19 20:00:00      1\n",
       "1965/03/23 11:30:00      1\n",
       "2002/01/03 13:00:00      1\n",
       "1917/09/15 13:00:00      1\n",
       "1887/12/22 13:00:00      1\n",
       "2001/08/19 13:14:00      1\n",
       "1957/04/23 13:00:00      1\n",
       "2011/10/02 18:00:00      1\n",
       "2009/11/05 13:00:00      1\n",
       "2012/06/19 13:00:00      1\n",
       "1932/07/02 13:00:00      1\n",
       "1986/10/15 13:00:00      1\n",
       "1997/09/16 13:00:00      1\n",
       "2012/09/16 15:00:00      1\n",
       "1938/08/18 13:00:00      1\n",
       "1984/05/31 13:30:00      1\n",
       "1954/12/09 13:20:00      1\n",
       "2004/01/23 13:00:00      1\n",
       "1894/08/01 13:00:00      1\n",
       "1962/01/14 10:30:00      1\n",
       "1970/08/02 18:00:00      1\n",
       "2007/08/28 10:45:00      1\n",
       "1964/08/21 11:30:00      1\n",
       "1985/10/22 16:00:00      1\n",
       "1957/04/13 14:00:00      1\n",
       "1890/12/27 13:00:00      1\n",
       "Name: DateTime, dtype: int64"
      ]
     },
     "execution_count": 29,
     "metadata": {},
     "output_type": "execute_result"
    }
   ],
   "source": [
    "data[\"DateTime\"].value_counts()"
   ]
  },
  {
   "cell_type": "markdown",
   "metadata": {},
   "source": [
    "<h1>Get Month</h1>"
   ]
  },
  {
   "cell_type": "code",
   "execution_count": 65,
   "metadata": {
    "collapsed": false
   },
   "outputs": [],
   "source": [
    "#If the month is empty put random month\n",
    "def get_month(date):\n",
    "    array = date.split(\"/\")\n",
    "    if len(array)>1:\n",
    "        if \"00\" in array[1]:\n",
    "            return randint(1,12)\n",
    "        if len(array[1])<2 and \"0\" in array[1]:\n",
    "            return randint(1,12)\n",
    "        \n",
    "        return int(array[1])\n",
    "    else:\n",
    "        return randint(1,12)\n",
    "\n",
    "\n",
    "data['Month'] = data['DateTime'].map(get_month)"
   ]
  },
  {
   "cell_type": "code",
   "execution_count": 66,
   "metadata": {
    "collapsed": false
   },
   "outputs": [
    {
     "data": {
      "text/plain": [
       "array([ 9,  8,  7,  6,  5,  4,  3,  2,  1, 12, 11, 10])"
      ]
     },
     "execution_count": 66,
     "metadata": {},
     "output_type": "execute_result"
    }
   ],
   "source": [
    "data[\"Month\"].unique()"
   ]
  },
  {
   "cell_type": "code",
   "execution_count": 67,
   "metadata": {
    "collapsed": false
   },
   "outputs": [
    {
     "data": {
      "text/plain": [
       "7     683\n",
       "8     624\n",
       "9     579\n",
       "1     549\n",
       "6     515\n",
       "12    459\n",
       "4     453\n",
       "3     443\n",
       "10    443\n",
       "11    440\n",
       "5     405\n",
       "2     399\n",
       "Name: Month, dtype: int64"
      ]
     },
     "execution_count": 67,
     "metadata": {},
     "output_type": "execute_result"
    }
   ],
   "source": [
    "data[\"Month\"].value_counts()"
   ]
  },
  {
   "cell_type": "markdown",
   "metadata": {},
   "source": [
    "<h1>Clean Type Attack</h1>\n",
    "Only put the boating, provoked or unprovoked, because we can not predict a sea desaster."
   ]
  },
  {
   "cell_type": "code",
   "execution_count": 33,
   "metadata": {
    "collapsed": false
   },
   "outputs": [
    {
     "data": {
      "text/plain": [
       "array([u'Unprovoked', u'Boat', u'Provoked', u'Invalid', u'Sea Disaster',\n",
       "       u'Boating'], dtype=object)"
      ]
     },
     "execution_count": 33,
     "metadata": {},
     "output_type": "execute_result"
    }
   ],
   "source": [
    "data['Type'].unique()"
   ]
  },
  {
   "cell_type": "code",
   "execution_count": 68,
   "metadata": {
    "collapsed": false
   },
   "outputs": [
    {
     "data": {
      "text/plain": [
       "Unprovoked      4386\n",
       "Provoked         557\n",
       "Invalid          519\n",
       "Sea Disaster     220\n",
       "Boat             200\n",
       "Boating          110\n",
       "Name: Type, dtype: int64"
      ]
     },
     "execution_count": 68,
     "metadata": {},
     "output_type": "execute_result"
    }
   ],
   "source": [
    "data[\"Type\"].value_counts()"
   ]
  },
  {
   "cell_type": "code",
   "execution_count": 34,
   "metadata": {
    "collapsed": false
   },
   "outputs": [],
   "source": [
    "def mapping_type_to_identifier(attack_type):\n",
    "    if \"Unprovoked\" in attack_type:\n",
    "        return 1\n",
    "    elif \"Boat\" in attack_type:\n",
    "        return 2\n",
    "    elif \"Invalid\" in attack_type:\n",
    "        return 1\n",
    "    elif \"Sea Disaster\" in attack_type:\n",
    "        return 1\n",
    "    elif \"Provoked\" in attack_type:\n",
    "        return 3\n",
    "    elif \"Boating\" in attack_type:\n",
    "        return 2\n",
    "    else:\n",
    "        return 1"
   ]
  },
  {
   "cell_type": "code",
   "execution_count": 35,
   "metadata": {
    "collapsed": false
   },
   "outputs": [],
   "source": [
    "data['Id Type Attack'] = data['Type'].apply(mapping_type_to_identifier)"
   ]
  },
  {
   "cell_type": "markdown",
   "metadata": {},
   "source": [
    "<h1>Clean Age</h1>"
   ]
  },
  {
   "cell_type": "code",
   "execution_count": 37,
   "metadata": {
    "collapsed": false,
    "scrolled": true
   },
   "outputs": [
    {
     "data": {
      "text/plain": [
       "array([u'16', u'36', u'43', nan, u'60s', u'51', u'50', u'12', u'9', u'22',\n",
       "       u'25', u'37', u'20', u'49', u'15', u'21', u'40', u'72', u'18',\n",
       "       u'29', u'31', u'11', u'10', u'59', u'42', u'34', u'35', u'19', u'6',\n",
       "       u'27', u'64', u'60', u'23', u'52', u'13', u'57', u'48', u'39',\n",
       "       u'24', u'26', u'69', u'46', u'Teen', u'41', u'45', u'65', u'38',\n",
       "       u'71', u'32', u'58', u'28', u'54', u'44', u'14', u'7', u'62',\n",
       "       u'40s', u'68', u'47', u'17', u'30', u'63', u'70', u'18 months',\n",
       "       u'53', u'20s', u'33', u'30s', u'50s', u'8', u'61', u'55', u'teen',\n",
       "       u'66', u'77', u'74', u'3', u'56', u'28 & 26', u'5', u'86',\n",
       "       u'18 or 20', u'12 or 13', u'46 & 34', u'28, 23 & 30', u'Teens',\n",
       "       u'36 & 26', u'8 or 10', u'84', u'\\xa0 ', u' ', u'30 or 36',\n",
       "       u'6\\xbd', u'21 & ?', u'75', u'33 or 37', u'mid-30s', u'73',\n",
       "       u'23 & 20', u' 30', u'7      &    31', u' 28', u'20?', u\"60's\",\n",
       "       u'32 & 30', u'16 to 18', u'87', u'67', u'Elderly', u'mid-20s',\n",
       "       u'Ca. 33', u'74 ', u'45 ', u'21 or 26', u'20 ', u'>50', u'18 to 22',\n",
       "       u'adult', u'9 & 12', u'? & 19', u'9 months', u'25 to 35',\n",
       "       u'23 & 26', u'1', u'(adult)', u'33 & 37', u'25 or 28',\n",
       "       u'37, 67, 35, 27,  ? & 27', u'21, 34,24 & 35', u'30 & 32',\n",
       "       u'50 & 30', u'17 & 35', u'X', u'\"middle-age\"', u'13 or 18',\n",
       "       u'34 & 19', u'33 & 26', u'2 to 3 months', u'MAKE LINE GREEN',\n",
       "       u' 43', u'81', u'\"young\"', u'7 or 8', u'78', u'17 & 16', u'F',\n",
       "       u'Both 11', u'9 or 10', u'young', u'36 & 23', u'  ', u'A.M.',\n",
       "       u'?    &   14', u'10 or 12', u'31 or 33', u'M', u'2\\xbd',\n",
       "       u'13 or 14'], dtype=object)"
      ]
     },
     "execution_count": 37,
     "metadata": {},
     "output_type": "execute_result"
    }
   ],
   "source": [
    "data[\"Age\"].unique()"
   ]
  },
  {
   "cell_type": "code",
   "execution_count": 38,
   "metadata": {
    "collapsed": false
   },
   "outputs": [],
   "source": [
    "#Mapping text values to integer value and get the firs value if has a age rang\n",
    "def clean_age(age):\n",
    "    age = str(age)\n",
    "    clean_age = str(age)\n",
    "    \n",
    "    if \"teen\" in age.lower():\n",
    "        clean_age = \"10\"\n",
    "        \n",
    "    if \"adult\" in age.lower():\n",
    "        clean_age = \"18\"\n",
    "        \n",
    "    if \"young\" in age.lower():\n",
    "        clean_age = \"14\"\n",
    "    \n",
    "    if \"middle-age\" in age.lower():\n",
    "        clean_age = \"35\"\n",
    "    \n",
    "    \n",
    "    regexp = re.compile(r'([0-9]*[0-9])')\n",
    "    if regexp.search(clean_age) is not None:\n",
    "        clean_age = regexp.findall(clean_age)[0]\n",
    "    \n",
    "    for char in age:\n",
    "        if char.isalpha():\n",
    "            str.replace(clean_age,char,'')\n",
    "    if clean_age.isdigit():\n",
    "        return long(clean_age)\n",
    "    else:\n",
    "        return -1 #For Predict\n",
    "    "
   ]
  },
  {
   "cell_type": "code",
   "execution_count": 39,
   "metadata": {
    "collapsed": false
   },
   "outputs": [],
   "source": [
    "data[\"Clean Age\"] = data[\"Age\"].apply(clean_age)"
   ]
  },
  {
   "cell_type": "code",
   "execution_count": 40,
   "metadata": {
    "collapsed": false
   },
   "outputs": [],
   "source": [
    "age_acumulate = 0\n",
    "age_counter = 0\n",
    "for age in data[\"Clean Age\"]:\n",
    "    if age is not -1:\n",
    "        age_acumulate += age\n",
    "        age_counter +=1\n",
    "        \n",
    "age_median = age_acumulate/age_counter\n",
    "\n",
    "#For empty values add age median\n",
    "def add_age_median(age):\n",
    "    if age == -1:\n",
    "        return age_median\n",
    "    else:\n",
    "        return age"
   ]
  },
  {
   "cell_type": "code",
   "execution_count": 41,
   "metadata": {
    "collapsed": false
   },
   "outputs": [
    {
     "data": {
      "text/plain": [
       "-1     2692\n",
       " 18     150\n",
       " 17     150\n",
       " 20     144\n",
       " 19     139\n",
       " 15     135\n",
       " 16     135\n",
       " 21     118\n",
       " 22     113\n",
       " 24     103\n",
       " 25     103\n",
       " 14     101\n",
       " 13      93\n",
       " 30      84\n",
       " 23      82\n",
       " 26      80\n",
       " 28      79\n",
       " 27      78\n",
       " 29      75\n",
       " 12      71\n",
       " 10      66\n",
       " 32      65\n",
       " 35      65\n",
       " 40      52\n",
       " 31      51\n",
       " 38      47\n",
       " 34      46\n",
       " 33      44\n",
       " 36      43\n",
       " 43      43\n",
       "       ... \n",
       " 54      14\n",
       " 53      13\n",
       " 58      12\n",
       " 61      11\n",
       " 59      11\n",
       " 63       9\n",
       " 56       9\n",
       " 69       8\n",
       " 62       8\n",
       " 5        7\n",
       " 70       6\n",
       " 68       6\n",
       " 64       4\n",
       " 65       4\n",
       " 3        4\n",
       " 71       3\n",
       " 66       3\n",
       " 77       3\n",
       " 74       2\n",
       " 1        2\n",
       " 75       2\n",
       " 2        2\n",
       " 78       2\n",
       " 73       1\n",
       " 67       1\n",
       " 84       1\n",
       " 86       1\n",
       " 72       1\n",
       " 81       1\n",
       " 87       1\n",
       "Name: Clean Age, dtype: int64"
      ]
     },
     "execution_count": 41,
     "metadata": {},
     "output_type": "execute_result"
    }
   ],
   "source": [
    "data[\"Clean Age\"].value_counts()"
   ]
  },
  {
   "cell_type": "code",
   "execution_count": 42,
   "metadata": {
    "collapsed": true
   },
   "outputs": [],
   "source": [
    "\n",
    "data[\"Clean Age\"] = data[\"Clean Age\"].apply(add_age_median)"
   ]
  },
  {
   "cell_type": "code",
   "execution_count": 43,
   "metadata": {
    "collapsed": false
   },
   "outputs": [
    {
     "data": {
      "text/plain": [
       "array([16, 36, 43, 14, 60, 51, 50, 12,  9, 22, 25, 37, 20, 49, 15, 21, 40,\n",
       "       72, 18, 29, 31, 11, 10, 59, 42, 34, 35, 19,  6, 27, 64, 23, 52, 13,\n",
       "       57, 48, 39, 24, 26, 69, 46, 41, 45, 65, 38, 71, 32, 58, 28, 54, 44,\n",
       "        7, 62, 68, 47, 17, 30, 63, 70, 53, 33,  8, 61, 55, 66, 77, 74,  3,\n",
       "       56,  5, 86, 84, 75, 73, 87, 67,  1,  2, 81, 78])"
      ]
     },
     "execution_count": 43,
     "metadata": {},
     "output_type": "execute_result"
    }
   ],
   "source": [
    "data[\"Clean Age\"].unique()"
   ]
  },
  {
   "cell_type": "code",
   "execution_count": 44,
   "metadata": {
    "collapsed": false
   },
   "outputs": [
    {
     "data": {
      "text/plain": [
       "Case Number               object\n",
       "Date                      object\n",
       "Year                       int64\n",
       "Type                      object\n",
       "Country                   object\n",
       "Area                      object\n",
       "Location                  object\n",
       "Activity                  object\n",
       "Name                      object\n",
       "Sex                       object\n",
       "Age                       object\n",
       "Injury                    object\n",
       "Fatal (Y/N)               object\n",
       "Time                      object\n",
       "Species                   object\n",
       "Investigator or Source    object\n",
       "Clean Date                object\n",
       "Clean Time                object\n",
       "Hour                       int64\n",
       "Sex Clean                  int64\n",
       "DateTime                  object\n",
       "Month                      int64\n",
       "Id Type Attack             int64\n",
       "Clean Age                  int64\n",
       "dtype: object"
      ]
     },
     "execution_count": 44,
     "metadata": {},
     "output_type": "execute_result"
    }
   ],
   "source": [
    "data.dtypes"
   ]
  },
  {
   "cell_type": "markdown",
   "metadata": {},
   "source": [
    "<h1>Clean Area</h1>"
   ]
  },
  {
   "cell_type": "code",
   "execution_count": 45,
   "metadata": {
    "collapsed": false
   },
   "outputs": [
    {
     "data": {
      "text/plain": [
       "USA                          2116\n",
       "AUSTRALIA                    1279\n",
       "SOUTH AFRICA                  565\n",
       "PAPUA NEW GUINEA              133\n",
       "NEW ZEALAND                   125\n",
       "BRAZIL                        102\n",
       "BAHAMAS                        98\n",
       "MEXICO                         81\n",
       "ITALY                          71\n",
       "FIJI                           62\n",
       "PHILIPPINES                    59\n",
       "REUNION                        57\n",
       "NEW CALEDONIA                  51\n",
       "MOZAMBIQUE                     44\n",
       "CUBA                           42\n",
       "SPAIN                          40\n",
       "INDIA                          37\n",
       "EGYPT                          36\n",
       "CROATIA                        34\n",
       "JAPAN                          32\n",
       "PANAMA                         32\n",
       "SOLOMON ISLANDS                29\n",
       "IRAN                           29\n",
       "GREECE                         25\n",
       "HONG KONG                      24\n",
       "JAMAICA                        23\n",
       "FRENCH POLYNESIA               22\n",
       "INDONESIA                      20\n",
       "ENGLAND                        19\n",
       "PACIFIC OCEAN                  17\n",
       "                             ... \n",
       "NORTHERN MARIANA ISLANDS        1\n",
       "GUATEMALA                       1\n",
       "SWEDEN                          1\n",
       "ITALY / CROATIA                 1\n",
       "ARUBA                           1\n",
       "THE BALKANS                     1\n",
       "TASMAN SEA                      1\n",
       "Between PORTUGAL & INDIA        1\n",
       "RED SEA?                        1\n",
       "NORTH SEA                       1\n",
       " PHILIPPINES                    1\n",
       "St Helena                       1\n",
       "CEYLON (SRI LANKA)              1\n",
       "Sierra Leone                    1\n",
       "ST. MARTIN                      1\n",
       "BRITISH VIRGIN ISLANDS          1\n",
       "SYRIA                           1\n",
       "PARAGUAY                        1\n",
       "OCEAN                           1\n",
       "ARGENTINA                       1\n",
       "CYPRUS                          1\n",
       "NEVIS                           1\n",
       "MEXICO                          1\n",
       "SOLOMON ISLANDS / VANUATU       1\n",
       "ANGOLA                          1\n",
       "RED SEA / INDIAN OCEAN          1\n",
       "COOK ISLANDS                    1\n",
       "MALDIVE ISLANDS                 1\n",
       "WESTERN SAMOA                   1\n",
       "BRITISH NEW GUINEA              1\n",
       "Name: Country, dtype: int64"
      ]
     },
     "execution_count": 45,
     "metadata": {},
     "output_type": "execute_result"
    }
   ],
   "source": [
    "data[\"Country\"].value_counts()"
   ]
  },
  {
   "cell_type": "code",
   "execution_count": 69,
   "metadata": {
    "collapsed": false
   },
   "outputs": [
    {
     "data": {
      "text/plain": [
       "USA                         2116\n",
       "AUSTRALIA                   1279\n",
       "SOUTH AFRICA                 565\n",
       "PAPUA NEW GUINEA             133\n",
       "NEW ZEALAND                  125\n",
       "BRAZIL                       102\n",
       "BAHAMAS                       98\n",
       "MEXICO                        81\n",
       "ITALY                         71\n",
       "FIJI                          65\n",
       "PHILIPPINES                   59\n",
       "REUNION                       57\n",
       "NEW CALEDONIA                 51\n",
       "MOZAMBIQUE                    44\n",
       "NAN                           43\n",
       "CUBA                          42\n",
       "SPAIN                         40\n",
       "INDIA                         37\n",
       "EGYPT                         36\n",
       "CROATIA                       34\n",
       "JAPAN                         32\n",
       "PANAMA                        32\n",
       "IRAN                          29\n",
       "SOLOMON ISLANDS               29\n",
       "GREECE                        25\n",
       "HONG KONG                     24\n",
       "JAMAICA                       23\n",
       "FRENCH POLYNESIA              22\n",
       "INDONESIA                     20\n",
       "ENGLAND                       19\n",
       "                            ... \n",
       "PALESTINIAN TERRITORIES        1\n",
       "GHANA                          1\n",
       "NORTHERN MARIANA ISLANDS       1\n",
       "SWEDEN                         1\n",
       "ITALY                          1\n",
       "GUATEMALA                      1\n",
       "ARUBA                          1\n",
       "CEYLON (SRI LANKA)             1\n",
       "RED SEA                        1\n",
       "ST HELENA                      1\n",
       "MAYOTTE                        1\n",
       "NORTH SEA                      1\n",
       "THE BALKANS                    1\n",
       "BRITISH VIRGIN ISLANDS         1\n",
       "ANDAMAN                        1\n",
       "SYRIA                          1\n",
       "PARAGUAY                       1\n",
       "OCEAN                          1\n",
       "ANGOLA                         1\n",
       "COOK ISLANDS                   1\n",
       "BETWEEN PORTUGAL & INDIA       1\n",
       "ARGENTINA                      1\n",
       "CYPRUS                         1\n",
       "NEVIS                          1\n",
       "MALDIVE ISLANDS                1\n",
       "MEXICO                         1\n",
       "WESTERN SAMOA                  1\n",
       "SOLOMON ISLANDS                1\n",
       "GRAND CAYMAN                   1\n",
       "BRITISH NEW GUINEA             1\n",
       "Name: Country, dtype: int64"
      ]
     },
     "execution_count": 69,
     "metadata": {},
     "output_type": "execute_result"
    }
   ],
   "source": [
    "#Clean some tips, for the dobule countires we take the first\n",
    "def clean_countries(country):\n",
    "    \n",
    "    country = str(country).upper().replace(\"?\",\"\")\n",
    "    \n",
    "    if len(country.split(\"/\"))>1:\n",
    "        return country.split(\"/\")[0]\n",
    "    else:\n",
    "        return country\n",
    "    \n",
    "data[\"Country\"] = data[\"Country\"].apply(clean_countries) \n",
    "data[\"Country\"].value_counts()"
   ]
  },
  {
   "cell_type": "code",
   "execution_count": 47,
   "metadata": {
    "collapsed": false
   },
   "outputs": [],
   "source": [
    "countries = data[\"Country\"].unique()\n",
    "countries_list =[]\n",
    "for country in countries:\n",
    "    countries_list.append(country)\n",
    "    \n",
    "#Mapping countires to identifier\n",
    "def id_countries(country):\n",
    "    return countries_list.index(country)\n"
   ]
  },
  {
   "cell_type": "code",
   "execution_count": 48,
   "metadata": {
    "collapsed": false
   },
   "outputs": [
    {
     "data": {
      "text/plain": [
       "0      2116\n",
       "1      1279\n",
       "9       565\n",
       "33      133\n",
       "11      125\n",
       "16      102\n",
       "4        98\n",
       "25       81\n",
       "24       71\n",
       "15       65\n",
       "44       59\n",
       "3        57\n",
       "2        51\n",
       "21       44\n",
       "29       43\n",
       "70       42\n",
       "5        40\n",
       "88       37\n",
       "10       36\n",
       "49       34\n",
       "7        32\n",
       "67       32\n",
       "101      29\n",
       "62       29\n",
       "27       25\n",
       "96       24\n",
       "39       23\n",
       "13       22\n",
       "12       20\n",
       "71       19\n",
       "       ... \n",
       "183       1\n",
       "187       1\n",
       "174       1\n",
       "170       1\n",
       "162       1\n",
       "154       1\n",
       "109       1\n",
       "125       1\n",
       "129       1\n",
       "133       1\n",
       "137       1\n",
       "141       1\n",
       "145       1\n",
       "153       1\n",
       "157       1\n",
       "173       1\n",
       "177       1\n",
       "181       1\n",
       "185       1\n",
       "189       1\n",
       "191       1\n",
       "30        1\n",
       "78        1\n",
       "82        1\n",
       "98        1\n",
       "106       1\n",
       "126       1\n",
       "138       1\n",
       "146       1\n",
       "193       1\n",
       "Name: Country Id, dtype: int64"
      ]
     },
     "execution_count": 48,
     "metadata": {},
     "output_type": "execute_result"
    }
   ],
   "source": [
    "data[\"Country Id\"] = data[\"Country\"].apply(id_countries)\n",
    "data[\"Country Id\"].value_counts()"
   ]
  },
  {
   "cell_type": "markdown",
   "metadata": {},
   "source": [
    "<h1>Activity</h1>"
   ]
  },
  {
   "cell_type": "code",
   "execution_count": 50,
   "metadata": {
    "collapsed": false
   },
   "outputs": [
    {
     "data": {
      "text/plain": [
       "Surfing                                                                                              904\n",
       "Swimming                                                                                             819\n",
       "Fishing                                                                                              414\n",
       "Spearfishing                                                                                         321\n",
       "Bathing                                                                                              153\n",
       "Wading                                                                                               144\n",
       "Diving                                                                                               123\n",
       "Standing                                                                                              97\n",
       "Snorkeling                                                                                            77\n",
       "Scuba diving                                                                                          74\n",
       "Body boarding                                                                                         54\n",
       "Body surfing                                                                                          48\n",
       "Swimming                                                                                              47\n",
       "Treading water                                                                                        32\n",
       "Pearl diving                                                                                          32\n",
       "Boogie boarding                                                                                       28\n",
       "Kayaking                                                                                              28\n",
       "Free diving                                                                                           26\n",
       "Fell overboard                                                                                        21\n",
       "Windsurfing                                                                                           18\n",
       "Boogie Boarding                                                                                       16\n",
       "Walking                                                                                               15\n",
       "Shark fishing                                                                                         15\n",
       "Canoeing                                                                                              12\n",
       "Rowing                                                                                                12\n",
       "Surf-skiing                                                                                           12\n",
       "Floating                                                                                              12\n",
       "Fishing                                                                                               12\n",
       "Surf skiing                                                                                           12\n",
       "Surf fishing                                                                                          11\n",
       "                                                                                                    ... \n",
       "Swimming, using bundles of sticks as raft                                                              1\n",
       "Fishing, holding fish                                                                                  1\n",
       "Wading with surfboard                                                                                  1\n",
       "Fisherman                                                                                              1\n",
       "Swimming along side N.E.L. vessel Saluda                                                               1\n",
       "Spearfishing / freediving                                                                              1\n",
       "The schooner Tahitienne foundered in a hurricane                                                       1\n",
       "Free diving with seals                                                                                 1\n",
       "Sinking of the M/V Mindoro during a typhoon                                                            1\n",
       "Abandoning burning ship Captain George in raging seas                                                  1\n",
       "Greek steamship Lakonia caught fire, 98 of her 646 passengers, and 30 of her crew of 376 perished      1\n",
       "Spearfishing, holding mesh bag with speared fish                                                       1\n",
       "Hardhat diving from Japanese pearling lugger, Reiyo Maru                                               1\n",
       "Jumped overboard from Norwegian steamship Venator                                                      1\n",
       "Escaping from blackbirding vessel                                                                      1\n",
       "Boeing 757 enroute from Porta Plata plunged into the sea                                               1\n",
       "Fishing boat capsized                                                                                  1\n",
       "Surfing, paddling shorewards                                                                           1\n",
       "Sitting                                                                                                1\n",
       "ship M.V. Rizal sank during typhoon                                                                    1\n",
       "Crawling                                                                                               1\n",
       "Swimming with pod of dolphins                                                                          1\n",
       "Removing fish from a trap                                                                              1\n",
       "Fishing, hauling in a 5-lb snapper                                                                     1\n",
       "Murdered                                                                                               1\n",
       "Wakeboarding                                                                                           1\n",
       "Fishing, caught a 15' shark & took it onboard                                                          1\n",
       "Swimming off yacht                                                                                     1\n",
       "Scuba diving, attempting to catch a captive shark                                                      1\n",
       "Attacked shark with fists                                                                              1\n",
       "Name: Activity, dtype: int64"
      ]
     },
     "execution_count": 50,
     "metadata": {},
     "output_type": "execute_result"
    }
   ],
   "source": [
    "data[\"Activity\"].value_counts()"
   ]
  },
  {
   "cell_type": "code",
   "execution_count": 70,
   "metadata": {
    "collapsed": false
   },
   "outputs": [],
   "source": [
    "#Mapping the most frequents activities\n",
    "def mapping_activities(activity):\n",
    "    activity = str(activity).upper()\n",
    "    \n",
    "    if \"SURFING\" in activity:\n",
    "        return 0\n",
    "    elif \"SWIMMING\" in activity:\n",
    "        return 1\n",
    "    elif \"FISHING\" in activity:\n",
    "        return 2\n",
    "    elif \"SPEARFISHING\" in activity:\n",
    "        return 3\n",
    "    elif \"BATHING\" in activity:\n",
    "        return 4\n",
    "    elif \"WADING\" in activity:\n",
    "        return 5\n",
    "    elif \"DIVING\" in activity:\n",
    "        return 6\n",
    "    elif \"STANDING\" in activity:\n",
    "        return 7\n",
    "    elif \"SNORKELING\" in activity:\n",
    "        return 8\n",
    "    elif \"SCUBA DIVING\" in activity:\n",
    "        return 9\n",
    "    elif \"BODY BOARDING\" in activity:\n",
    "        return 10\n",
    "    elif \"TREADING WATER\" in activity:\n",
    "        return 11\n",
    "    elif \"PEARL DIVING\" in activity:\n",
    "        return 12\n",
    "    elif \"BOOGIE BOARDING\" in activity:\n",
    "        return 13\n",
    "    elif \"KAYAKING\" in activity:\n",
    "        return 14\n",
    "    elif \"FREE DIVING\" in activity:\n",
    "        return 15\n",
    "    elif \"FELL OVERBOARD\" in activity:\n",
    "        return 16\n",
    "    elif \"WINFSURFING\" in activity:\n",
    "        return 17\n",
    "    else:\n",
    "        return 18\n",
    "    "
   ]
  },
  {
   "cell_type": "code",
   "execution_count": 52,
   "metadata": {
    "collapsed": false
   },
   "outputs": [],
   "source": [
    "data[\"Activity Id\"] = data[\"Activity\"].apply(mapping_activities)"
   ]
  },
  {
   "cell_type": "code",
   "execution_count": 53,
   "metadata": {
    "collapsed": false
   },
   "outputs": [
    {
     "data": {
      "text/plain": [
       "18    1489\n",
       "2     1122\n",
       "1     1056\n",
       "0     1054\n",
       "6      509\n",
       "4      180\n",
       "5      160\n",
       "7      128\n",
       "8       82\n",
       "10      58\n",
       "13      45\n",
       "16      41\n",
       "11      37\n",
       "14      31\n",
       "Name: Activity Id, dtype: int64"
      ]
     },
     "execution_count": 53,
     "metadata": {},
     "output_type": "execute_result"
    }
   ],
   "source": [
    "data[\"Activity Id\"].value_counts()"
   ]
  },
  {
   "cell_type": "markdown",
   "metadata": {},
   "source": [
    "<h1>Fatal</h1>"
   ]
  },
  {
   "cell_type": "code",
   "execution_count": 54,
   "metadata": {
    "collapsed": false
   },
   "outputs": [
    {
     "data": {
      "text/plain": [
       "N                 4315\n",
       "Y                 1552\n",
       "UNKNOWN             94\n",
       " N                   8\n",
       "N                    1\n",
       "--M524--M3133Y       1\n",
       "n                    1\n",
       "F                    1\n",
       "Name: Fatal (Y/N), dtype: int64"
      ]
     },
     "execution_count": 54,
     "metadata": {},
     "output_type": "execute_result"
    }
   ],
   "source": [
    "data[\"Fatal (Y/N)\"].value_counts()"
   ]
  },
  {
   "cell_type": "code",
   "execution_count": 55,
   "metadata": {
    "collapsed": true
   },
   "outputs": [],
   "source": [
    "def clean_fatal(fatal):\n",
    "    fatal = str(fatal).upper()\n",
    "    if \"UNKNOWN\" in fatal:\n",
    "        return 1\n",
    "    if \"--M524--M3133Y\" in fatal:\n",
    "        return 1\n",
    "    if \"N\" in fatal:\n",
    "        return 1\n",
    "    if \"Y\" in fatal:\n",
    "        return 2\n",
    "    return 1"
   ]
  },
  {
   "cell_type": "code",
   "execution_count": 56,
   "metadata": {
    "collapsed": true
   },
   "outputs": [],
   "source": [
    "data[\"Clean Fatal\"] = data[\"Fatal (Y/N)\"].apply(clean_fatal)"
   ]
  },
  {
   "cell_type": "code",
   "execution_count": 57,
   "metadata": {
    "collapsed": false
   },
   "outputs": [
    {
     "data": {
      "text/plain": [
       "array([1, 2])"
      ]
     },
     "execution_count": 57,
     "metadata": {},
     "output_type": "execute_result"
    }
   ],
   "source": [
    "data[\"Clean Fatal\"].unique()"
   ]
  },
  {
   "cell_type": "code",
   "execution_count": 58,
   "metadata": {
    "collapsed": false
   },
   "outputs": [
    {
     "data": {
      "text/plain": [
       "1    4440\n",
       "2    1552\n",
       "Name: Clean Fatal, dtype: int64"
      ]
     },
     "execution_count": 58,
     "metadata": {},
     "output_type": "execute_result"
    }
   ],
   "source": [
    "data[\"Clean Fatal\"].value_counts()"
   ]
  },
  {
   "cell_type": "markdown",
   "metadata": {},
   "source": [
    "<H1>Make CSV file with the cleaned and mapped data</H1>"
   ]
  },
  {
   "cell_type": "code",
   "execution_count": 71,
   "metadata": {
    "collapsed": true
   },
   "outputs": [],
   "source": [
    "clean_data = pd.DataFrame()"
   ]
  },
  {
   "cell_type": "code",
   "execution_count": 72,
   "metadata": {
    "collapsed": true
   },
   "outputs": [],
   "source": [
    "clean_data[\"Clean Fatal\"] = data[\"Clean Fatal\"]\n",
    "clean_data[\"Activity Id\"] = data[\"Activity Id\"]\n",
    "clean_data[\"Country Id\"] = data[\"Country Id\"]\n",
    "clean_data[\"Clean Age\"] = data[\"Clean Age\"]\n",
    "clean_data[\"Month\"] = data[\"Month\"]\n",
    "clean_data['Id Type Attack'] = data['Id Type Attack']\n",
    "clean_data['Hour'] = data['Hour']\n",
    "clean_data[\"Sex Clean\"] = data[\"Sex Clean\"]"
   ]
  },
  {
   "cell_type": "code",
   "execution_count": 61,
   "metadata": {
    "collapsed": false
   },
   "outputs": [],
   "source": [
    "clean_data.to_csv(\"output.csv\", sep=',', encoding='utf-8')"
   ]
  }
 ],
 "metadata": {
  "kernelspec": {
   "display_name": "Python 2",
   "language": "python",
   "name": "python2"
  },
  "language_info": {
   "codemirror_mode": {
    "name": "ipython",
    "version": 2
   },
   "file_extension": ".py",
   "mimetype": "text/x-python",
   "name": "python",
   "nbconvert_exporter": "python",
   "pygments_lexer": "ipython2",
   "version": "2.7.12"
  }
 },
 "nbformat": 4,
 "nbformat_minor": 1
}
